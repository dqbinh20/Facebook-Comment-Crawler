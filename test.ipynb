{
 "cells": [
  {
   "cell_type": "code",
   "execution_count": 1,
   "metadata": {},
   "outputs": [],
   "source": [
    "from selenium import webdriver\n",
    "from selenium.webdriver.common.by import By\n",
    "import openpyxl\n",
    "import time\n",
    "from selenium.webdriver.support import expected_conditions as EC\n",
    "from selenium.webdriver.support.ui import WebDriverWait\n",
    "from selenium.common.exceptions import TimeoutException, NoSuchElementException\n",
    "import requests\n",
    "from datetime import datetime\n",
    "from tkinter import filedialog\n",
    "from selenium.webdriver.chrome.options import Options\n",
    "from typing import List, Dict\n",
    "chrome_options = Options()\n",
    "chrome_options.add_argument(\"--disable-notifications\")\n",
    "chrome_options.add_argument(\"--disable-infobars\")\n",
    "chrome_options.add_argument(\"--disable-gpu\")\n",
    "chrome_options.add_argument(\"--no-sandbox\")\n",
    "chrome_options.add_argument(\"--start-maximized\")\n",
    "chrome_options.add_argument(\"--disable-dev-shm-usage\")\n",
    "driver = webdriver.Chrome(options=chrome_options)\n",
    "driver.get(\"http://www.facebook.com/\")\n",
    "cookie = \"sb=ebZMZuyBXbVOe_n-i85dBnWu; datr=ebZMZpdDORDAYuhiPktR6eL6; locale=en_GB; c_user=100078181924899; ps_n=1; ps_l=1; xs=37%3ADDdaXnZuBGC_8g%3A2%3A1716303554%3A-1%3A15672%3A%3AAcWT1qoR2eIJZ3LowTmck6DoWOzND10tinMQ9hnKvA; presence=C%7B%22t3%22%3A%5B%5D%2C%22utc3%22%3A1716653259703%2C%22v%22%3A1%7D; wd=414x679; fr=1CqmXS0TLJ1d8aPZL.AWW1WmTwVlMgkkUocNfNXI6OFCk.BmUgzM..AAA.0.0.BmUgzq.AWVXRfkaf98\"\n",
    "cookies = []\n",
    "for i in cookie.split(\"; \"):\n",
    "    name, value = i.split(\"=\")\n",
    "    cookies.append({\"name\": name, \"value\": value})\n",
    "for i in cookies:\n",
    "    driver.add_cookie(i)\n",
    "driver.get(\"http://www.facebook.com/{id}}/allactivity?activity_history=false&category_key=COMMENTSCLUSTER&manage_mode=false&should_load_landing_page=false\")"
   ]
  },
  {
   "cell_type": "code",
   "execution_count": 2,
   "metadata": {},
   "outputs": [],
   "source": [
    "comment_history_tag = driver.find_element(By.XPATH, \"/html/body/div[1]/div/div[1]/div/div[3]/div/div/div[1]/div[1]/div[2]/div/div/div/div/div/div[4]\")\n",
    "comments_tag = comment_history_tag.find_elements(By.XPATH,\"div/div[2]/div[1]/div/a\")\n",
    "# find user_name\n",
    "user_name = \"\"\n",
    "try:\n",
    "    user_name = comments_tag[0].text[:comments_tag[0].text.find(\" đã \")]\n",
    "except:\n",
    "    pass\n",
    "comments_tag_text_link = [] \n",
    "for item in comments_tag:\n",
    "    comments_tag_text_link.append((item.text,item.get_attribute(\"href\")))"
   ]
  },
  {
   "cell_type": "code",
   "execution_count": 14,
   "metadata": {},
   "outputs": [
    {
     "name": "stdout",
     "output_type": "stream",
     "text": [
      "aFamily.vn\n",
      "aFamily.vn\n",
      "aFamily.vn\n",
      "Sách Chứng Khoán - Bí kíp \"bắt bài\" dòng tiền\n",
      "Sách Chứng Khoán - Bí kíp \"bắt bài\" dòng tiền\n",
      "Duyn Btc\n"
     ]
    }
   ],
   "source": [
    "for tag in comments_tag_text_link:\n",
    "    author = tag[0][tag[0].find(\"của \")+3:tag[0].find(\"\\n\")]\n",
    "    driver.get(tag[1])\n",
    "    time.sleep(1)\n",
    "    try:\n",
    "        author = driver.find_element(By.XPATH, \"/html/body/div[1]/div/div[1]/div/div[3]/div/div/div[1]/div[1]/div/div/div/div/div/div/div/div/div/div/div/div/div/div[13]/div/div/div[2]/div/div[2]/div/div[1]/span/h2/span/a/strong/span\").text\n",
    "    except NoSuchElementException:\n",
    "        try:\n",
    "            author = driver.find_element(By.XPATH, \"/html/body/div[1]/div/div[1]/div/div[3]/div/div/div[1]/div[1]/div[4]/div/div/div/div/div/div/div/div[1]/div/div/div/div/div/div/div/div/div/div/div[13]/div/div/div[2]/div/div[2]/div/div[1]/span/h2/span/span/a/strong/span\").text\n",
    "        except NoSuchElementException:\n",
    "            try:\n",
    "                author = driver.find_element(By.XPATH, \"/html/body/div[1]/div/div[1]/div/div[3]/div/div/div[1]/div[1]/div/div/div[1]/div/div[2]/div/div/div/div[1]/div/div/div[2]/div[1]/div/div[1]/div[3]/div/div/div[1]/div/div/div[2]/div/div[1]/div/h2/span/span/span\").text\n",
    "            except NoSuchElementException:\n",
    "                try:\n",
    "                    author = driver.find_element(By.XPATH, \"/html/body/div[1]/div/div[1]/div/div[3]/div/div/div[1]/div[1]/div/div[2]/div/div/div[4]/div/div/div/div/div/div/div/div/div/div/div/div/div/div/div/div/div/div/div[13]/div/div/div[2]/div/div[2]/div/div[1]/span/h3/span/span/a/strong/span\").text\n",
    "                except Exception:\n",
    "                    pass\n",
    "            except Exception:\n",
    "                pass\n",
    "        except Exception:\n",
    "            pass\n",
    "    except Exception:\n",
    "        pass\n",
    "    print(author)\n",
    "\n"
   ]
  },
  {
   "cell_type": "code",
   "execution_count": 40,
   "metadata": {},
   "outputs": [],
   "source": [
    "tag = comments_tag_text_link[0]\n",
    "WEB_DRIVER_WAIT_TIME = 2\n",
    "\n",
    "# type comment\n",
    "driver.get(tag[1])\n",
    "aria_label = \"\"\n",
    "if \"đã bình luận\" in tag[0]:\n",
    "    aria_label = f'//*[starts-with(@aria-label, \"Bình luận dưới tên {user_name}\")]'\n",
    "elif \"đã phản hồi\" in tag[0]:\n",
    "    aria_label = f'//*[starts-with(@aria-label, \"Phản hồi bình luận của\")]'\n",
    "elif \"đã trả lời\" in tag[0]:\n",
    "    aria_label = f'//*[starts-with(@aria-label, \"Phản hồi bình luận của {user_name} dưới tên {user_name}\")]'\n",
    "\n",
    "if (tag[1].split(\"/\")[3]==\"reel\"):\n",
    "    cmtButton = WebDriverWait(driver, WEB_DRIVER_WAIT_TIME).until(EC.presence_of_element_located((By.XPATH, '//*[@aria-label=\"Bình luận\"]')))\n",
    "    cmtButton.click()\n",
    "\n"
   ]
  },
  {
   "cell_type": "code",
   "execution_count": 152,
   "metadata": {},
   "outputs": [],
   "source": [
    "comment_in_group = driver.find_element(By.XPATH,\"/html/body/div[1]/div/div[1]/div/div[3]/div/div/div[1]/div[1]/div/div[2]/div/div/div[4]/div/div/div/div/div/div/div/div/div/div/div/div/div/div/div/div/div/div/div[13]/div/div/div[4]\").text\n",
    "if comment_in_group[comment_in_group.find(\"Trúc Thanh\"):].find(\"\\nĐang chờ\\nTìm hiểu thêm\\n\") != -1:\n",
    "    print(\"cos\")\n",
    "if comment_in_group[comment_in_group.find(\"Hoang Minh\"):].find(\"\\nBị từ chối\\n\") != -1:\n",
    "    print(\"cos\")"
   ]
  },
  {
   "cell_type": "code",
   "execution_count": 167,
   "metadata": {},
   "outputs": [],
   "source": [
    "aria-label=\"Phản hồi bình luận của Kashizo Kanzaki dưới tên Kashizo Kanzaki vào 2 phút trước\"\n",
    "aria-label=\"Bình luận dưới tên Kashizo Kanzaki vào 16 giờ trước\""
   ]
  },
  {
   "cell_type": "code",
   "execution_count": 2,
   "metadata": {},
   "outputs": [],
   "source": []
  },
  {
   "cell_type": "code",
   "execution_count": 118,
   "metadata": {},
   "outputs": [
    {
     "name": "stdout",
     "output_type": "stream",
     "text": [
      "cos\n"
     ]
    }
   ],
   "source": []
  },
  {
   "cell_type": "code",
   "execution_count": 88,
   "metadata": {},
   "outputs": [
    {
     "name": "stdout",
     "output_type": "stream",
     "text": [
      "cos\n"
     ]
    }
   ],
   "source": []
  },
  {
   "cell_type": "code",
   "execution_count": 59,
   "metadata": {},
   "outputs": [
    {
     "data": {
      "text/plain": [
       "1"
      ]
     },
     "execution_count": 59,
     "metadata": {},
     "output_type": "execute_result"
    }
   ],
   "source": []
  },
  {
   "cell_type": "code",
   "execution_count": 36,
   "metadata": {},
   "outputs": [],
   "source": []
  }
 ],
 "metadata": {
  "kernelspec": {
   "display_name": "Python 3",
   "language": "python",
   "name": "python3"
  },
  "language_info": {
   "codemirror_mode": {
    "name": "ipython",
    "version": 3
   },
   "file_extension": ".py",
   "mimetype": "text/x-python",
   "name": "python",
   "nbconvert_exporter": "python",
   "pygments_lexer": "ipython3",
   "version": "3.12.0"
  }
 },
 "nbformat": 4,
 "nbformat_minor": 2
}
