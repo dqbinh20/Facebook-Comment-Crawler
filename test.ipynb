{
 "cells": [
  {
   "cell_type": "code",
   "execution_count": 3,
   "metadata": {},
   "outputs": [],
   "source": [
    "from selenium import webdriver\n",
    "from selenium.webdriver.common.by import By\n",
    "import openpyxl\n",
    "import time\n",
    "from selenium.webdriver.support import expected_conditions as EC\n",
    "from selenium.webdriver.support.wait import WebDriverWait"
   ]
  },
  {
   "cell_type": "code",
   "execution_count": 101,
   "metadata": {},
   "outputs": [],
   "source": [
    "\n",
    "cookies_object_list = []\n",
    "def loadCookiesFile(filename):\n",
    "    try:\n",
    "        wb_cookie = openpyxl.load_workbook(filename)\n",
    "        ws = wb_cookie.active\n",
    "        for row in ws.iter_rows():\n",
    "            cookies_object_list.append({\"name\": row[0].value, \"value\": row[1].value})\n",
    "    except FileNotFoundError:\n",
    "        print(\"Error: File 'cookies.xlsx' not found.\")\n",
    "    finally:\n",
    "        wb_cookie.close()\n",
    "    return cookies_object_list\n",
    "loadCookiesFile('cookies.xlsx')\n",
    "cookies_object = cookies_object_list[1]\n",
    "cookies = []\n",
    "id = \"\"\n",
    "for item in cookies_object[\"value\"].split(\"; \"):\n",
    "    name, value = item.split(\"=\")\n",
    "    if name==\"c_user\":\n",
    "        id = value\n",
    "    cookies.append({\"name\": name, \"value\": value})"
   ]
  },
  {
   "cell_type": "code",
   "execution_count": 102,
   "metadata": {},
   "outputs": [],
   "source": [
    "driver = webdriver.Firefox()\n",
    "driver.get(\"http://www.facebook.com/\")\n",
    "for cookie in cookies:\n",
    "    driver.add_cookie(cookie)\n",
    "driver.get(f\"http://www.facebook.com/{id}/allactivity?activity_history=false&category_key=COMMENTSCLUSTER&manage_mode=false&should_load_landing_page=false\") "
   ]
  },
  {
   "cell_type": "code",
   "execution_count": 35,
   "metadata": {},
   "outputs": [
    {
     "data": {
      "text/plain": [
       "'3 Tháng 4, 2024'"
      ]
     },
     "execution_count": 35,
     "metadata": {},
     "output_type": "execute_result"
    }
   ],
   "source": []
  },
  {
   "cell_type": "code",
   "execution_count": null,
   "metadata": {},
   "outputs": [],
   "source": []
  },
  {
   "cell_type": "code",
   "execution_count": 103,
   "metadata": {},
   "outputs": [],
   "source": [
    "commentHistoryLatest = driver.find_element(By.XPATH,\"/html/body/div[1]/div/div[1]/div/div[3]/div/div/div[1]/div[1]/div[2]/div/div/div/div/div/div[4]\")"
   ]
  },
  {
   "cell_type": "code",
   "execution_count": 104,
   "metadata": {},
   "outputs": [
    {
     "data": {
      "text/plain": [
       "'15 Tháng 5, 2024'"
      ]
     },
     "execution_count": 104,
     "metadata": {},
     "output_type": "execute_result"
    }
   ],
   "source": [
    "dataComment = driver.find_element(By.XPATH,\"/html/body/div[1]/div/div[1]/div/div[3]/div/div/div[1]/div[1]/div[2]/div/div/div/div/div/div[4]/div[1]/div/div/div/div/div/h2/span/span\")\n",
    "dataComment.text"
   ]
  },
  {
   "cell_type": "code",
   "execution_count": 107,
   "metadata": {},
   "outputs": [
    {
     "ename": "NameError",
     "evalue": "name 'dm' is not defined",
     "output_type": "error",
     "traceback": [
      "\u001b[1;31m---------------------------------------------------------------------------\u001b[0m",
      "\u001b[1;31mNameError\u001b[0m                                 Traceback (most recent call last)",
      "Cell \u001b[1;32mIn[107], line 1\u001b[0m\n\u001b[1;32m----> 1\u001b[0m \u001b[43mdm\u001b[49m\n",
      "\u001b[1;31mNameError\u001b[0m: name 'dm' is not defined"
     ]
    }
   ],
   "source": []
  },
  {
   "cell_type": "code",
   "execution_count": 122,
   "metadata": {},
   "outputs": [
    {
     "name": "stdout",
     "output_type": "stream",
     "text": [
      "hello\n"
     ]
    }
   ],
   "source": [
    "from datetime import datetime\n",
    "try :\n",
    "    dataComment = driver.find_element(By.XPATH,\"/html/body/div[1]/div/div[1]/div/div[3]/div/div/div[1]/div[1]/div[2]/div/div/div/div/div/div[4]/div[1]/div/div/div/div/div/h2/span/span\")\n",
    "    dmy = dataComment.text.split(\" \")\n",
    "    if (int(datetime.now().strftime(\"%m\"))!=int(dmy[0]) or int(datetime.now().strftime(\"%d\"))!=int(dmy[2].replace(\",\",\"\")) or datetime.now().strftime(\"%y\")!=dmy[3]):\n",
    "        print(\"hello\")\n",
    "except:\n",
    "    print(\"d\")"
   ]
  },
  {
   "cell_type": "code",
   "execution_count": 120,
   "metadata": {},
   "outputs": [
    {
     "data": {
      "text/plain": [
       "'05'"
      ]
     },
     "execution_count": 120,
     "metadata": {},
     "output_type": "execute_result"
    }
   ],
   "source": [
    "datetime.now().strftime(\"%m\")"
   ]
  },
  {
   "cell_type": "code",
   "execution_count": 9,
   "metadata": {},
   "outputs": [],
   "source": [
    "comments_tag = commentHistoryLatest.find_elements(By.XPATH,\"div/div[2]/div[1]/div/a\")"
   ]
  },
  {
   "cell_type": "code",
   "execution_count": 13,
   "metadata": {},
   "outputs": [
    {
     "data": {
      "text/plain": [
       "1"
      ]
     },
     "execution_count": 13,
     "metadata": {},
     "output_type": "execute_result"
    }
   ],
   "source": [
    "len(comments_tag)"
   ]
  },
  {
   "cell_type": "code",
   "execution_count": 162,
   "metadata": {},
   "outputs": [],
   "source": [
    "links = commentHistoryLatest.find_elements(By.XPATH,\"div/div[2]/div[1]/div/a\")"
   ]
  },
  {
   "cell_type": "code",
   "execution_count": 163,
   "metadata": {},
   "outputs": [],
   "source": [
    "link_list = []\n",
    "contents = []\n",
    "for i in links:\n",
    "    contents.append(i.text.split(\"\\n\")[1])\n",
    "    link_list.append(i.get_attribute(\"href\").split(\"/\"))\n",
    "for i in range(len(contents)):\n",
    "    pass"
   ]
  },
  {
   "cell_type": "code",
   "execution_count": 148,
   "metadata": {},
   "outputs": [],
   "source": [
    "wait = WebDriverWait(driver, 10)\n",
    "\n",
    "locations = []\n",
    "for i in link_list:\n",
    "    if i[3] == \"groups\":\n",
    "        driver.get(f\"https://www.facebook.com/groups/{i[4]}\")\n",
    "        nameGroup_tag = wait.until(EC.presence_of_element_located((By.XPATH,\"/html/body/div[1]/div/div[1]/div/div[3]/div/div/div[1]/div[1]/div/div[2]/div/div/div[1]/div[2]/div/div/div/div/div[1]/div/div/div/div[1]/div/div[1]/h1/span/a\")))\n",
    "        locations.append(nameGroup_tag.text)\n",
    "    else:\n",
    "        locations.append(i[3])"
   ]
  },
  {
   "cell_type": "code",
   "execution_count": 33,
   "metadata": {},
   "outputs": [
    {
     "name": "stdout",
     "output_type": "stream",
     "text": [
      "Ý TƯỞNG KHỞI NGHIỆP\n"
     ]
    }
   ],
   "source": [
    "import requests\n",
    "url = 'https://www.facebook.com/groups/clubytuongkhoinghiep'\n",
    "response = requests.get(url)\n",
    "print(response.text.split(\"<title>\")[1].split(\"</title>\")[0])"
   ]
  },
  {
   "cell_type": "code",
   "execution_count": 30,
   "metadata": {},
   "outputs": [
    {
     "data": {
      "text/plain": [
       "'f:\\\\crawl_comment_facebook\\\\cookies.xlsx'"
      ]
     },
     "execution_count": 30,
     "metadata": {},
     "output_type": "execute_result"
    }
   ],
   "source": [
    "import os\n",
    "os.path.join(os.getcwd(), 'cookies.xlsx')\n"
   ]
  },
  {
   "cell_type": "markdown",
   "metadata": {},
   "source": []
  }
 ],
 "metadata": {
  "kernelspec": {
   "display_name": "Python 3",
   "language": "python",
   "name": "python3"
  },
  "language_info": {
   "codemirror_mode": {
    "name": "ipython",
    "version": 3
   },
   "file_extension": ".py",
   "mimetype": "text/x-python",
   "name": "python",
   "nbconvert_exporter": "python",
   "pygments_lexer": "ipython3",
   "version": "3.12.0"
  }
 },
 "nbformat": 4,
 "nbformat_minor": 2
}
